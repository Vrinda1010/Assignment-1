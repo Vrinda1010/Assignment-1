{
  "nbformat": 4,
  "nbformat_minor": 0,
  "metadata": {
    "colab": {
      "name": "Untitled3.ipynb",
      "provenance": []
    },
    "kernelspec": {
      "name": "python3",
      "display_name": "Python 3"
    }
  },
  "cells": [
    {
      "cell_type": "code",
      "metadata": {
        "id": "-DB_Wskn3nCp",
        "outputId": "b61a54da-a1f8-4904-9678-34e9786533e4",
        "colab": {
          "base_uri": "https://localhost:8080/"
        }
      },
      "source": [
        "l=[]\n",
        "for i in range(10):\n",
        "  a=int(input(\"Enter the number: \"))\n",
        "  if(a%2==0):\n",
        "     l.append(a)\n",
        "print(l,end=\" \")"
      ],
      "execution_count": 8,
      "outputs": [
        {
          "output_type": "stream",
          "text": [
            "Enter the number: 2\n",
            "Enter the number: 1\n",
            "Enter the number: 3\n",
            "Enter the number: 5\n",
            "Enter the number: 6\n",
            "Enter the number: 4\n",
            "Enter the number: 7\n",
            "Enter the number: 9\n",
            "Enter the number: 8\n",
            "Enter the number: 20\n",
            "[2, 6, 4, 8, 20] "
          ],
          "name": "stdout"
        }
      ]
    },
    {
      "cell_type": "code",
      "metadata": {
        "id": "XuBlLZjbDxb0"
      },
      "source": [
        "Question 2"
      ],
      "execution_count": null,
      "outputs": []
    },
    {
      "cell_type": "code",
      "metadata": {
        "id": "KSdyYQH3EBa5",
        "outputId": "06a68916-cf0b-4df5-a679-d6215814c9ee",
        "colab": {
          "base_uri": "https://localhost:8080/"
        }
      },
      "source": [
        "l=[10,20,30,40,50,60,70]\n",
        "l.append(500)\n",
        "\n",
        "print(l)\n",
        "\n",
        "print(l[2:])\n",
        "print(l[:5])\n",
        "print(l[3:6])\n",
        "print(l[0:6:2])\n",
        "l[6]=100\n",
        "print(l)\n",
        "\n",
        "\n",
        "\n",
        "print(\"Max no is: \",max(l))\n",
        "print(\"\\n\")\n",
        "print(\"Min no is: \",min(l))\n"
      ],
      "execution_count": 31,
      "outputs": [
        {
          "output_type": "stream",
          "text": [
            "[10, 20, 30, 40, 50, 60, 70, 500]\n",
            "[30, 40, 50, 60, 70, 500]\n",
            "[10, 20, 30, 40, 50]\n",
            "[40, 50, 60]\n",
            "[10, 30, 50]\n",
            "[10, 20, 30, 40, 50, 60, 100, 500]\n",
            "Max no is:  500\n",
            "\n",
            "\n",
            "Min no is:  10\n"
          ],
          "name": "stdout"
        }
      ]
    },
    {
      "cell_type": "markdown",
      "metadata": {
        "id": "rTu--0F-Iigw"
      },
      "source": [
        "Question 3"
      ]
    },
    {
      "cell_type": "code",
      "metadata": {
        "id": "C4liaKEXIklh",
        "outputId": "9e9e5b6a-4e4d-487b-a448-c8bd99e374f6",
        "colab": {
          "base_uri": "https://localhost:8080/"
        }
      },
      "source": [
        "dict={}\n",
        "a=int(input(\"Enter the number: \"))\n",
        "for i in range(1,a+1):\n",
        "  dict[i]=i*i\n",
        "print(dict)"
      ],
      "execution_count": 35,
      "outputs": [
        {
          "output_type": "stream",
          "text": [
            "Enter the number: 6\n",
            "{1: 1, 2: 4, 3: 9, 4: 16, 5: 25, 6: 36}\n"
          ],
          "name": "stdout"
        }
      ]
    },
    {
      "cell_type": "code",
      "metadata": {
        "id": "EoDnHBV9JTVH",
        "outputId": "d78c3d10-23cf-4cf0-c1bd-746b639757e4",
        "colab": {
          "base_uri": "https://localhost:8080/"
        }
      },
      "source": [
        "dict={}\n",
        "a=int(input(\"Enter the number: \"))\n",
        "for i in range(1,a+1):\n",
        "  dict[i]=i*i\n",
        "print(dict)"
      ],
      "execution_count": 36,
      "outputs": [
        {
          "output_type": "stream",
          "text": [
            "Enter the number: 8\n",
            "{1: 1, 2: 4, 3: 9, 4: 16, 5: 25, 6: 36, 7: 49, 8: 64}\n"
          ],
          "name": "stdout"
        }
      ]
    },
    {
      "cell_type": "markdown",
      "metadata": {
        "id": "t6K2oCL4JZbf"
      },
      "source": [
        "Question 4"
      ]
    },
    {
      "cell_type": "code",
      "metadata": {
        "id": "etW3WHHDJbIv",
        "outputId": "55353892-0a75-48ad-a4ab-e201a18d67fc",
        "colab": {
          "base_uri": "https://localhost:8080/"
        }
      },
      "source": [
        "pos={\"X\":0,\"Y\":0}\n",
        "n=int(input(\"Number of Directions: \"))\n",
        "for i in range(n):\n",
        "  val=input()\n",
        "  val=val.upper()\n",
        "  dir,steps=val.split()\n",
        "  if dir==\"UP\":\n",
        "    pos[\"Y\"]+=int(steps)\n",
        "  elif dir==\"DOWN\":\n",
        "    pos[\"Y\"]-=int(steps)\n",
        "  elif dir==\"LEFT\":\n",
        "    pos[\"X\"]-=int(steps)\n",
        "  elif dir==\"RIGHT\":\n",
        "    pos[\"X\"]+=int(steps)\n",
        "print(int(round((pos[\"X\"]**2 + pos[\"Y\"]**2)**0.5)))\n"
      ],
      "execution_count": 39,
      "outputs": [
        {
          "output_type": "stream",
          "text": [
            "Number of Directions: 4\n",
            "UP 5\n",
            "DOWN 3\n",
            "LEFT 3\n",
            "RIGHT 2\n",
            "2\n"
          ],
          "name": "stdout"
        }
      ]
    }
  ]
}