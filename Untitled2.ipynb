{
  "nbformat": 4,
  "nbformat_minor": 0,
  "metadata": {
    "colab": {
      "name": "Untitled2.ipynb",
      "provenance": []
    },
    "kernelspec": {
      "name": "python3",
      "display_name": "Python 3"
    }
  },
  "cells": [
    {
      "cell_type": "code",
      "metadata": {
        "id": "kB745I8iy_-z"
      },
      "source": [
        ""
      ],
      "execution_count": null,
      "outputs": []
    },
    {
      "cell_type": "markdown",
      "metadata": {
        "id": "U_uJhKYnzBcD"
      },
      "source": [
        "B) RAINBOW"
      ]
    },
    {
      "cell_type": "code",
      "metadata": {
        "id": "7QOzeKrlzEBt",
        "outputId": "e71ed4d5-e33e-465b-ce76-42eaee0529e7",
        "colab": {
          "base_uri": "https://localhost:8080/"
        }
      },
      "source": [
        "print('LETS UPGRADE')\n"
      ],
      "execution_count": 1,
      "outputs": [
        {
          "output_type": "stream",
          "text": [
            "LETS UPGRADE\n"
          ],
          "name": "stdout"
        }
      ]
    },
    {
      "cell_type": "code",
      "metadata": {
        "id": "6__jPVX0zUjh",
        "outputId": "09408e25-4a9d-476a-cfb7-7c0a3e50fa33",
        "colab": {
          "base_uri": "https://localhost:8080/"
        }
      },
      "source": [
        "CP=int(input(\"Cost price :\"))\n",
        "SP=int(input(\"Selling price : \"))\n",
        "if(CP>SP):\n",
        "  print(\"Loss\")\n",
        "elif(CP<SP):\n",
        "  print(\"Profit\")\n",
        "else:\n",
        "  print(\"Neither\")"
      ],
      "execution_count": 3,
      "outputs": [
        {
          "output_type": "stream",
          "text": [
            "Cost price :20\n",
            "Selling price : 30\n",
            "Profit\n"
          ],
          "name": "stdout"
        }
      ]
    },
    {
      "cell_type": "code",
      "metadata": {
        "id": "zVLCRMMF0-Tf",
        "outputId": "a73ede6a-e943-4e0e-e99d-ef97905e1cf7",
        "colab": {
          "base_uri": "https://localhost:8080/"
        }
      },
      "source": [
        "CP=int(input(\"Cost price :\"))\n",
        "SP=int(input(\"Selling price : \"))\n",
        "if(CP>SP):\n",
        "  print(\"Loss\")\n",
        "elif(CP<SP):\n",
        "  print(\"Profit\")\n",
        "else:\n",
        "  print(\"Neither\")\n",
        "  "
      ],
      "execution_count": 4,
      "outputs": [
        {
          "output_type": "stream",
          "text": [
            "Cost price :30\n",
            "Selling price : 15\n",
            "Loss\n"
          ],
          "name": "stdout"
        }
      ]
    },
    {
      "cell_type": "code",
      "metadata": {
        "id": "nTNhLJ3O1In8",
        "outputId": "d0aaee02-dae4-4679-a4fe-625e33fc8e9e",
        "colab": {
          "base_uri": "https://localhost:8080/"
        }
      },
      "source": [
        "CP=int(input(\"Cost price :\"))\n",
        "SP=int(input(\"Selling price : \"))\n",
        "if(CP>SP):\n",
        "  print(\"Loss\")\n",
        "elif(CP<SP):\n",
        "  print(\"Profit\")\n",
        "else:\n",
        "  print(\"Neither\")"
      ],
      "execution_count": 5,
      "outputs": [
        {
          "output_type": "stream",
          "text": [
            "Cost price :50\n",
            "Selling price : 50\n",
            "Neither\n"
          ],
          "name": "stdout"
        }
      ]
    },
    {
      "cell_type": "code",
      "metadata": {
        "id": "bFsBuKf71RNy",
        "outputId": "976e5d64-3772-40dc-9e22-cce00f2e00e2",
        "colab": {
          "base_uri": "https://localhost:8080/"
        }
      },
      "source": [
        "amount=int(input(\"Amount :\"))\n",
        "print(amount * 80)"
      ],
      "execution_count": 6,
      "outputs": [
        {
          "output_type": "stream",
          "text": [
            "Amount :20\n",
            "1600\n"
          ],
          "name": "stdout"
        }
      ]
    },
    {
      "cell_type": "code",
      "metadata": {
        "id": "COxjZwVl11bS",
        "outputId": "a9a6a21e-4739-4bfb-9a05-ea2d2d8f9155",
        "colab": {
          "base_uri": "https://localhost:8080/"
        }
      },
      "source": [
        "amount=int(input(\"Amount :\"))\n",
        "print(amount * 80)"
      ],
      "execution_count": 7,
      "outputs": [
        {
          "output_type": "stream",
          "text": [
            "Amount :50\n",
            "4000\n"
          ],
          "name": "stdout"
        },
        {
          "output_type": "execute_result",
          "data": {
            "text/plain": [
              "50"
            ]
          },
          "metadata": {
            "tags": []
          },
          "execution_count": 7
        }
      ]
    },
    {
      "cell_type": "code",
      "metadata": {
        "id": "ZzL3x7kr2B1B",
        "outputId": "9dbe95e8-8e08-41f5-8b4c-90c707d8a7df",
        "colab": {
          "base_uri": "https://localhost:8080/"
        }
      },
      "source": [
        "amount=int(input(\"Amount :\"))\n",
        "print(amount * 80)\n"
      ],
      "execution_count": 8,
      "outputs": [
        {
          "output_type": "stream",
          "text": [
            "Amount :72\n",
            "5760\n"
          ],
          "name": "stdout"
        }
      ]
    }
  ]
}