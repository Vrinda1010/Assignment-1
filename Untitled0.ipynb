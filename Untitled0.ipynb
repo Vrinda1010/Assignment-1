{
  "nbformat": 4,
  "nbformat_minor": 0,
  "metadata": {
    "colab": {
      "name": "Untitled0.ipynb",
      "provenance": []
    },
    "kernelspec": {
      "name": "python3",
      "display_name": "Python 3"
    }
  },
  "cells": [
    {
      "cell_type": "markdown",
      "metadata": {
        "id": "jenYm9uwsB-x"
      },
      "source": [
        ""
      ]
    },
    {
      "cell_type": "markdown",
      "metadata": {
        "id": "sbD2mckpsIz3"
      },
      "source": [
        "Question 1\n"
      ]
    },
    {
      "cell_type": "code",
      "metadata": {
        "id": "VOaTZgDtsK7u",
        "outputId": "86741c97-e3b6-4926-e731-d07bfc143f91",
        "colab": {
          "base_uri": "https://localhost:8080/"
        }
      },
      "source": [
        "import numpy as np\n",
        "arr=np.arange(2,50,3)\n",
        "print(arr)"
      ],
      "execution_count": 5,
      "outputs": [
        {
          "output_type": "stream",
          "text": [
            "[ 2  5  8 11 14 17 20 23 26 29 32 35 38 41 44 47]\n"
          ],
          "name": "stdout"
        }
      ]
    },
    {
      "cell_type": "markdown",
      "metadata": {
        "id": "p3LnrENhsNpm"
      },
      "source": [
        "Question 2"
      ]
    },
    {
      "cell_type": "code",
      "metadata": {
        "id": "IPsHhbVmsb9G",
        "outputId": "688162fe-8d5f-45dd-aa6d-3d43509b37d6",
        "colab": {
          "base_uri": "https://localhost:8080/"
        }
      },
      "source": [
        "l1=[]\n",
        "l2=[]\n",
        "for i in range(0,5):\n",
        "  a=int(input(\"Enter element of first list : \"))\n",
        "  l1.append(a)\n",
        "for i in range(0,5):    \n",
        "    a=int(input(\"Enter element of second list : \"))\n",
        "    l2.append(a)\n",
        "\n",
        "arr1=np.array(l1)\n",
        "arr2=np.array(l2)\n",
        "\n",
        "arr=np.concatenate((arr1, arr2))\n",
        "print(np.sort(arr))"
      ],
      "execution_count": 7,
      "outputs": [
        {
          "output_type": "stream",
          "text": [
            "Enter element of first list : 1\n",
            "Enter element of first list : 5\n",
            "Enter element of first list : 4\n",
            "Enter element of first list : 6\n",
            "Enter element of first list : 7\n",
            "Enter element of second list : 2\n",
            "Enter element of second list : 3\n",
            "Enter element of second list : 8\n",
            "Enter element of second list : 4\n",
            "Enter element of second list : 9\n",
            "[1 2 3 4 4 5 6 7 8 9]\n"
          ],
          "name": "stdout"
        }
      ]
    },
    {
      "cell_type": "markdown",
      "metadata": {
        "id": "gfZDR8MmtE5k"
      },
      "source": [
        "Question 3"
      ]
    },
    {
      "cell_type": "code",
      "metadata": {
        "id": "R6vfu37dtJSF",
        "outputId": "492ba975-d72c-49a2-895b-7732157e27ed",
        "colab": {
          "base_uri": "https://localhost:8080/"
        }
      },
      "source": [
        "arr=np.array([[1,2,3],[4,5,6],[7,8,9]])\n",
        "print(arr.shape)\n",
        "print(\"dimension is : \",arr.ndim)\n",
        "print(\"Size is : \",arr.size)"
      ],
      "execution_count": 8,
      "outputs": [
        {
          "output_type": "stream",
          "text": [
            "(3, 3)\n",
            "dimension is :  2\n",
            "Size is :  9\n"
          ],
          "name": "stdout"
        }
      ]
    },
    {
      "cell_type": "markdown",
      "metadata": {
        "id": "Tk74m9mRtkNH"
      },
      "source": [
        "Question 4"
      ]
    },
    {
      "cell_type": "code",
      "metadata": {
        "id": "1empNGpztmeI",
        "outputId": "7ccf11e2-7893-4c8a-ad8a-9b46e5fd1f48",
        "colab": {
          "base_uri": "https://localhost:8080/"
        }
      },
      "source": [
        "import numpy as np\n",
        "array1 = np.arange(10)\n",
        "print(\"Shape: \",array1.shape)\n",
        "#converting in row wise\n",
        "row_array = array1[np.newaxis, :]\n",
        "print(\"Shape of 2D Array in row: \",row_array.shape)\n",
        "#converting in column wise\n",
        "col_array = array1[:, np.newaxis]\n",
        "print(\"Shape of 2D Array in column: \",col_array.shape)"
      ],
      "execution_count": 9,
      "outputs": [
        {
          "output_type": "stream",
          "text": [
            "Shape:  (10,)\n",
            "Shape of 2D Array in row:  (1, 10)\n",
            "Shape of 2D Array in column:  (10, 1)\n"
          ],
          "name": "stdout"
        }
      ]
    },
    {
      "cell_type": "markdown",
      "metadata": {
        "id": "xpquoayauBmK"
      },
      "source": [
        "Question 5"
      ]
    },
    {
      "cell_type": "code",
      "metadata": {
        "id": "5Dq9_yiuuGGb",
        "outputId": "50ca99b0-76a2-4dae-c4b5-2d50f5f5ac1c",
        "colab": {
          "base_uri": "https://localhost:8080/"
        }
      },
      "source": [
        "array1 = np.square([1, 2, 3, 4, 5])\n",
        "array2 = np.square([6,86,55,69,75])\n",
        "\n",
        "print(\"Horizontal Stack : \", np.hstack((array1, array2)))\n",
        "print(\"Vertical Stack : \", np.vstack((array1, array2)))"
      ],
      "execution_count": 10,
      "outputs": [
        {
          "output_type": "stream",
          "text": [
            "Horizontal Stack :  [   1    4    9   16   25   36 7396 3025 4761 5625]\n",
            "Vertical Stack :  [[   1    4    9   16   25]\n",
            " [  36 7396 3025 4761 5625]]\n"
          ],
          "name": "stdout"
        }
      ]
    },
    {
      "cell_type": "markdown",
      "metadata": {
        "id": "fL3jF5JguYpC"
      },
      "source": [
        "Question 6"
      ]
    },
    {
      "cell_type": "code",
      "metadata": {
        "id": "tkfZ4XJwubSL",
        "outputId": "8dd6d24e-7e41-45d5-a1b2-a06d094e22a6",
        "colab": {
          "base_uri": "https://localhost:8080/"
        }
      },
      "source": [
        "import numpy as np\n",
        "array1 = np.array([2,5,3,7,6,9,8,25,36,42,15,6,6,5,1,2,85,96,37,46,8,122,365,77])\n",
        "\n",
        "unique, counts = np.unique(array1, return_counts=True)\n",
        "array2 = np.asarray((unique, counts)).T\n",
        "print(array2)"
      ],
      "execution_count": 11,
      "outputs": [
        {
          "output_type": "stream",
          "text": [
            "[[  1   1]\n",
            " [  2   2]\n",
            " [  3   1]\n",
            " [  5   2]\n",
            " [  6   3]\n",
            " [  7   1]\n",
            " [  8   2]\n",
            " [  9   1]\n",
            " [ 15   1]\n",
            " [ 25   1]\n",
            " [ 36   1]\n",
            " [ 37   1]\n",
            " [ 42   1]\n",
            " [ 46   1]\n",
            " [ 77   1]\n",
            " [ 85   1]\n",
            " [ 96   1]\n",
            " [122   1]\n",
            " [365   1]]\n"
          ],
          "name": "stdout"
        }
      ]
    }
  ]
}